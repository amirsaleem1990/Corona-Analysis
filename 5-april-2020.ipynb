{
 "cells": [
  {
   "cell_type": "code",
   "execution_count": 1,
   "metadata": {},
   "outputs": [],
   "source": [
    "import requests\n",
    "from bs4 import BeautifulSoup"
   ]
  },
  {
   "cell_type": "code",
   "execution_count": 34,
   "metadata": {},
   "outputs": [],
   "source": [
    "url = \"https://www.worldometers.info/coronavirus/\"\n",
    "soup = BeautifulSoup(\n",
    "                    requests.get(url).text,\n",
    "                    \"lxml\")"
   ]
  },
  {
   "cell_type": "code",
   "execution_count": 47,
   "metadata": {},
   "outputs": [
    {
     "data": {
      "text/plain": [
       "204.46153846153845"
      ]
     },
     "execution_count": 47,
     "metadata": {},
     "output_type": "execute_result"
    }
   ],
   "source": [
    "a = soup.find(\"table\" , {\"id\" : \"main_table_countries_today\"}).find(\"tbody\").text\n",
    "a = a.replace(\"\\n\\n\\n\", \"\\n\\n\")\n",
    "# a = [i.strip(\"\\n\") for i in a.split(\"\\n\\n\")]\n",
    "# for i in range(len(a)):\n",
    "#     a[i] = a[i].replace(\" \", \"\\n\").replace(\",\", \"\")\n",
    "#     a[i] = a[i].replace(\"\\n\", \",\")\n",
    "# # [i.count(\",\") for i in a]\n",
    "# a\n",
    "# for i in range()\n",
    "# l = \n",
    "# a.strip().split(\"\\n\")[13:25]\n",
    "len(a.strip().split(\"\\n\")) / 13"
   ]
  },
  {
   "cell_type": "code",
   "execution_count": 48,
   "metadata": {},
   "outputs": [
    {
     "data": {
      "text/plain": [
       "2665"
      ]
     },
     "execution_count": 48,
     "metadata": {},
     "output_type": "execute_result"
    }
   ],
   "source": [
    "2665-"
   ]
  },
  {
   "cell_type": "code",
   "execution_count": null,
   "metadata": {},
   "outputs": [],
   "source": []
  }
 ],
 "metadata": {
  "kernelspec": {
   "display_name": "Python 3",
   "language": "python",
   "name": "python3"
  },
  "language_info": {
   "codemirror_mode": {
    "name": "ipython",
    "version": 3
   },
   "file_extension": ".py",
   "mimetype": "text/x-python",
   "name": "python",
   "nbconvert_exporter": "python",
   "pygments_lexer": "ipython3",
   "version": "3.6.9"
  }
 },
 "nbformat": 4,
 "nbformat_minor": 4
}
