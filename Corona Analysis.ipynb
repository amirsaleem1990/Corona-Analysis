{
 "cells": [
  {
   "cell_type": "code",
   "execution_count": 3,
   "metadata": {},
   "outputs": [
    {
     "name": "stdout",
     "output_type": "stream",
     "text": [
      "(106704, 10)\n"
     ]
    },
    {
     "data": {
      "text/html": [
       "<div>\n",
       "<style scoped>\n",
       "    .dataframe tbody tr th:only-of-type {\n",
       "        vertical-align: middle;\n",
       "    }\n",
       "\n",
       "    .dataframe tbody tr th {\n",
       "        vertical-align: top;\n",
       "    }\n",
       "\n",
       "    .dataframe thead th {\n",
       "        text-align: right;\n",
       "    }\n",
       "</style>\n",
       "<table border=\"1\" class=\"dataframe\">\n",
       "  <thead>\n",
       "    <tr style=\"text-align: right;\">\n",
       "      <th></th>\n",
       "      <th>Date</th>\n",
       "      <th>Country_Region</th>\n",
       "      <th>Province_State</th>\n",
       "      <th>Case_Type</th>\n",
       "      <th>Cases</th>\n",
       "      <th>Difference</th>\n",
       "      <th>Prep_Flow_Runtime</th>\n",
       "      <th>Latest_Date</th>\n",
       "      <th>Lat</th>\n",
       "      <th>Long</th>\n",
       "    </tr>\n",
       "  </thead>\n",
       "  <tbody>\n",
       "    <tr>\n",
       "      <th>0</th>\n",
       "      <td>3/11/2020</td>\n",
       "      <td>US</td>\n",
       "      <td>Arizona</td>\n",
       "      <td>Recovered</td>\n",
       "      <td>0</td>\n",
       "      <td>0</td>\n",
       "      <td>3/20/2020 7:43:39 AM</td>\n",
       "      <td>3/19/2020</td>\n",
       "      <td>32.0575</td>\n",
       "      <td>-111.6661</td>\n",
       "    </tr>\n",
       "    <tr>\n",
       "      <th>1</th>\n",
       "      <td>3/11/2020</td>\n",
       "      <td>US</td>\n",
       "      <td>Arizona</td>\n",
       "      <td>Deaths</td>\n",
       "      <td>0</td>\n",
       "      <td>0</td>\n",
       "      <td>3/20/2020 7:43:39 AM</td>\n",
       "      <td>3/19/2020</td>\n",
       "      <td>32.0575</td>\n",
       "      <td>-111.6661</td>\n",
       "    </tr>\n",
       "    <tr>\n",
       "      <th>2</th>\n",
       "      <td>3/11/2020</td>\n",
       "      <td>US</td>\n",
       "      <td>Arizona</td>\n",
       "      <td>Confirmed</td>\n",
       "      <td>0</td>\n",
       "      <td>0</td>\n",
       "      <td>3/20/2020 7:43:39 AM</td>\n",
       "      <td>3/19/2020</td>\n",
       "      <td>32.0575</td>\n",
       "      <td>-111.6661</td>\n",
       "    </tr>\n",
       "    <tr>\n",
       "      <th>3</th>\n",
       "      <td>3/11/2020</td>\n",
       "      <td>US</td>\n",
       "      <td>Arizona</td>\n",
       "      <td>Active</td>\n",
       "      <td>0</td>\n",
       "      <td>0</td>\n",
       "      <td>3/20/2020 7:43:39 AM</td>\n",
       "      <td>3/19/2020</td>\n",
       "      <td>32.0575</td>\n",
       "      <td>-111.6661</td>\n",
       "    </tr>\n",
       "    <tr>\n",
       "      <th>4</th>\n",
       "      <td>2/15/2020</td>\n",
       "      <td>US</td>\n",
       "      <td>Arizona</td>\n",
       "      <td>Recovered</td>\n",
       "      <td>0</td>\n",
       "      <td>0</td>\n",
       "      <td>3/20/2020 7:43:39 AM</td>\n",
       "      <td>3/19/2020</td>\n",
       "      <td>32.8162</td>\n",
       "      <td>-111.2845</td>\n",
       "    </tr>\n",
       "  </tbody>\n",
       "</table>\n",
       "</div>"
      ],
      "text/plain": [
       "        Date Country_Region Province_State  Case_Type  Cases  Difference  \\\n",
       "0  3/11/2020             US        Arizona  Recovered      0           0   \n",
       "1  3/11/2020             US        Arizona     Deaths      0           0   \n",
       "2  3/11/2020             US        Arizona  Confirmed      0           0   \n",
       "3  3/11/2020             US        Arizona     Active      0           0   \n",
       "4  2/15/2020             US        Arizona  Recovered      0           0   \n",
       "\n",
       "      Prep_Flow_Runtime Latest_Date      Lat      Long  \n",
       "0  3/20/2020 7:43:39 AM   3/19/2020  32.0575 -111.6661  \n",
       "1  3/20/2020 7:43:39 AM   3/19/2020  32.0575 -111.6661  \n",
       "2  3/20/2020 7:43:39 AM   3/19/2020  32.0575 -111.6661  \n",
       "3  3/20/2020 7:43:39 AM   3/19/2020  32.0575 -111.6661  \n",
       "4  3/20/2020 7:43:39 AM   3/19/2020  32.8162 -111.2845  "
      ]
     },
     "execution_count": 3,
     "metadata": {},
     "output_type": "execute_result"
    }
   ],
   "source": [
    "import pandas as pd\n",
    "df = pd.read_csv(\"COVID-19 Cases.csv\")\n",
    "print(df.shape)\n",
    "df.head()"
   ]
  },
  {
   "cell_type": "code",
   "execution_count": null,
   "metadata": {},
   "outputs": [],
   "source": []
  },
  {
   "cell_type": "code",
   "execution_count": null,
   "metadata": {},
   "outputs": [],
   "source": []
  },
  {
   "cell_type": "code",
   "execution_count": null,
   "metadata": {},
   "outputs": [],
   "source": []
  }
 ],
 "metadata": {
  "kernelspec": {
   "display_name": "Python 3",
   "language": "python",
   "name": "python3"
  },
  "language_info": {
   "codemirror_mode": {
    "name": "ipython",
    "version": 3
   },
   "file_extension": ".py",
   "mimetype": "text/x-python",
   "name": "python",
   "nbconvert_exporter": "python",
   "pygments_lexer": "ipython3",
   "version": "3.6.9"
  }
 },
 "nbformat": 4,
 "nbformat_minor": 4
}
